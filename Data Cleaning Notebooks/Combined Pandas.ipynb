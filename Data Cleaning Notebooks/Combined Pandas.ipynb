{
 "cells": [
  {
   "cell_type": "code",
   "execution_count": 7,
   "metadata": {},
   "outputs": [],
   "source": [
    "import pandas as pd\n",
    "import os"
   ]
  },
  {
   "cell_type": "code",
   "execution_count": 17,
   "metadata": {},
   "outputs": [],
   "source": [
    "cwd = os.getcwd()\n",
    "first_flag = True\n",
    "for file in os.listdir():\n",
    "    if file[:9] == \"Game Data\":\n",
    "        if first_flag ==True:\n",
    "            first_flag = False\n",
    "            df = pd.read_pickle(f\"{cwd}/{file}\")\n",
    "        else:\n",
    "            df = df.append(pd.read_pickle(f\"{cwd}/{file}\"))\n",
    "df.to_pickle(\"./All Game Data.pkl\")"
   ]
  }
 ],
 "metadata": {
  "kernelspec": {
   "display_name": "Python 3",
   "language": "python",
   "name": "python3"
  },
  "language_info": {
   "codemirror_mode": {
    "name": "ipython",
    "version": 3
   },
   "file_extension": ".py",
   "mimetype": "text/x-python",
   "name": "python",
   "nbconvert_exporter": "python",
   "pygments_lexer": "ipython3",
   "version": "3.6.8"
  }
 },
 "nbformat": 4,
 "nbformat_minor": 2
}

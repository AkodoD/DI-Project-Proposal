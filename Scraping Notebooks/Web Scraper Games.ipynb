{
 "cells": [
  {
   "cell_type": "code",
   "execution_count": 1,
   "metadata": {},
   "outputs": [],
   "source": [
    "from requests import get\n",
    "from requests.exceptions import RequestException\n",
    "from contextlib import closing\n",
    "from bs4 import BeautifulSoup as soup\n",
    "import urllib.request\n",
    "import time\n",
    "import string as st\n",
    "import pandas as pd"
   ]
  },
  {
   "cell_type": "code",
   "execution_count": 2,
   "metadata": {},
   "outputs": [],
   "source": [
    "def simple_get(url):\n",
    "    \"\"\"\n",
    "    Attempts to get the content at `url` by making an HTTP GET request.\n",
    "    If the content-type of response is some kind of HTML/XML, return the\n",
    "    text content, otherwise return None.\n",
    "    \"\"\"\n",
    "    time.sleep(1)\n",
    "    try:\n",
    "        with closing(get(url, stream=True)) as resp:\n",
    "            if is_good_response(resp):\n",
    "                return resp.content\n",
    "            else:\n",
    "                return None\n",
    "\n",
    "    except RequestException as e:\n",
    "        log_error('Error during requests to {0} : {1}'.format(url, str(e)))\n",
    "        return None\n",
    "\n",
    "\n",
    "def is_good_response(resp):\n",
    "    \"\"\"\n",
    "    Returns True if the response seems to be HTML, False otherwise.\n",
    "    \"\"\"\n",
    "    content_type = resp.headers['Content-Type'].lower()\n",
    "    return (resp.status_code == 200 \n",
    "            and content_type is not None \n",
    "            and content_type.find('html') > -1)\n",
    "\n",
    "\n",
    "def log_error(e):\n",
    "    \"\"\"\n",
    "    It is always a good idea to log errors. \n",
    "    This function just prints them, but you can\n",
    "    make it do anything.\n",
    "    \"\"\"\n",
    "    print(e)"
   ]
  },
  {
   "cell_type": "code",
   "execution_count": 3,
   "metadata": {},
   "outputs": [],
   "source": [
    "def get_pages(html):\n",
    "    \"\"\"returns how many pages there are for that letter\n",
    "    Input: html from first page in letter\n",
    "    Output: Int - how many pages there are for that letter\n",
    "    \"\"\"\n",
    "    line = html.select('span[title ^=\"Page\"]')\n",
    "    try:\n",
    "        return int(line[0]['title'].split()[-1])\n",
    "    except: \n",
    "        return 1\n",
    "\n",
    "\n",
    "def read_game_data(game_soup):\n",
    "    \"\"\"\n",
    "    Converts a game page's soup object and returns a dictionary to be added to the final output.\n",
    "    Input: Game page soup\n",
    "    Output: a dictionary with relevant game information\n",
    "    \"\"\"\n",
    "    \"read in the title of the game\"\n",
    "    game_title = str(game_soup.find('div',{\"class\":'game_head_title'}).string)\n",
    "    \n",
    "    \"read in the game info from the header\"\n",
    "    head_text = game_soup.find_all('div',{'class':'game_head_details_row'})\n",
    "    if len(head_text) < 2:\n",
    "        return None\n",
    "    output = {}\n",
    "    for entry in head_text:\n",
    "        string = entry.string\n",
    "        if not isinstance(string,type(None)):\n",
    "            txt = string.split(':')\n",
    "            if len(txt) < 2:\n",
    "                if txt[0].lower() == \"cancelled\":\n",
    "                    break\n",
    "                continue\n",
    "            output[(\"Game Info\",txt[0].strip())]= txt[1].strip()\n",
    "            \n",
    "    \"read in requirements from the middle column\"\n",
    "    req_block = game_soup.find_all('div',{'class':'srb_row'})\n",
    "    if len(req_block) == 0:\n",
    "        return None\n",
    "    \n",
    "    line_list = [str(y.string).strip() for x in req_block[0].children for y in x] \n",
    "    req_type_list = line_list #list of requirement types available\n",
    "\n",
    "    \"pulls in requirements line by line\"\n",
    "    for line in req_block[1:]:\n",
    "        line_list = [str(y.string).strip() for x in line.children for y in x]\n",
    "        req_type_str = req_type_list[0].split()[0]\n",
    "        temp = {(req_type_str,line_list[0][:-1]):line_list[1]}\n",
    "        output.update(temp)\n",
    "        'if there are also recommended requirements then read those in'\n",
    "        if len(req_type_list) == 2:\n",
    "            if len(line_list) == 4:\n",
    "                req_type_str = req_type_list[1].split()[0]\n",
    "                temp = {(req_type_str,line_list[2][:-1]):line_list[3]}\n",
    "                output.update(temp)\n",
    "            \n",
    "    return {game_title:output}\n",
    "    "
   ]
  },
  {
   "cell_type": "code",
   "execution_count": 9,
   "metadata": {},
   "outputs": [],
   "source": [
    "root_url = \"https://gamesystemrequirements.com\"\n",
    "page_list = list(st.ascii_lowercase[19:])\n",
    "page_list.append('0-9')"
   ]
  },
  {
   "cell_type": "code",
   "execution_count": 10,
   "metadata": {},
   "outputs": [
    {
     "name": "stdout",
     "output_type": "stream",
     "text": [
      "Starting Letter t\n",
      "Letter t: Page 1 0.0%\n",
      "Letter t: Page 1 9.70873786407767%\n",
      "Letter t: Page 1 19.41747572815534%\n",
      "Letter t: Page 1 29.126213592233007%\n",
      "Letter t: Page 1 38.83495145631068%\n",
      "Letter t: Page 1 48.54368932038835%\n",
      "Letter t: Page 1 58.252427184466015%\n",
      "Letter t: Page 1 67.96116504854369%\n",
      "Letter t: Page 1 77.66990291262135%\n",
      "Letter t: Page 1 87.37864077669903%\n",
      "Letter t: Page 1 97.0873786407767%\n",
      "Letter t: Page 2 0.0%\n",
      "Letter t: Page 2 9.70873786407767%\n",
      "Letter t: Page 2 19.41747572815534%\n",
      "Letter t: Page 2 29.126213592233007%\n",
      "Letter t: Page 2 38.83495145631068%\n",
      "Letter t: Page 2 48.54368932038835%\n",
      "Letter t: Page 2 58.252427184466015%\n",
      "Letter t: Page 2 67.96116504854369%\n",
      "Letter t: Page 2 77.66990291262135%\n",
      "Letter t: Page 2 87.37864077669903%\n",
      "Letter t: Page 2 97.0873786407767%\n",
      "Letter t: Page 3 0.0%\n",
      "Letter t: Page 3 9.70873786407767%\n",
      "Letter t: Page 3 19.41747572815534%\n",
      "Letter t: Page 3 29.126213592233007%\n",
      "Letter t: Page 3 38.83495145631068%\n",
      "Letter t: Page 3 48.54368932038835%\n",
      "Letter t: Page 3 58.252427184466015%\n",
      "Letter t: Page 3 67.96116504854369%\n",
      "Letter t: Page 3 77.66990291262135%\n",
      "Letter t: Page 3 87.37864077669903%\n",
      "Letter t: Page 3 97.0873786407767%\n",
      "Letter t: Page 4 0.0%\n",
      "Letter t: Page 4 9.803921568627452%\n",
      "Letter t: Page 4 19.607843137254903%\n",
      "Letter t: Page 4 29.411764705882355%\n",
      "Letter t: Page 4 39.21568627450981%\n",
      "Letter t: Page 4 49.01960784313725%\n",
      "Letter t: Page 4 58.82352941176471%\n",
      "Letter t: Page 4 68.62745098039215%\n",
      "Letter t: Page 4 78.43137254901961%\n",
      "Letter t: Page 4 88.23529411764706%\n",
      "Letter t: Page 4 98.0392156862745%\n",
      "Letter t: Page 5 0.0%\n",
      "Letter t: Page 5 9.70873786407767%\n",
      "Letter t: Page 5 19.41747572815534%\n",
      "Letter t: Page 5 29.126213592233007%\n",
      "Letter t: Page 5 38.83495145631068%\n",
      "Letter t: Page 5 48.54368932038835%\n",
      "Letter t: Page 5 58.252427184466015%\n",
      "Letter t: Page 5 67.96116504854369%\n",
      "Letter t: Page 5 77.66990291262135%\n",
      "Letter t: Page 5 87.37864077669903%\n",
      "Letter t: Page 5 97.0873786407767%\n",
      "Letter t: Page 6 0.0%\n",
      "Letter t: Page 6 9.803921568627452%\n",
      "Letter t: Page 6 19.607843137254903%\n",
      "Letter t: Page 6 29.411764705882355%\n",
      "Letter t: Page 6 39.21568627450981%\n",
      "Letter t: Page 6 49.01960784313725%\n",
      "Letter t: Page 6 58.82352941176471%\n",
      "Letter t: Page 6 68.62745098039215%\n",
      "Letter t: Page 6 78.43137254901961%\n",
      "Letter t: Page 6 88.23529411764706%\n",
      "Letter t: Page 6 98.0392156862745%\n",
      "Letter t: Page 7 0.0%\n",
      "Letter t: Page 7 9.803921568627452%\n",
      "Letter t: Page 7 19.607843137254903%\n",
      "Letter t: Page 7 29.411764705882355%\n",
      "Letter t: Page 7 39.21568627450981%\n",
      "Letter t: Page 7 49.01960784313725%\n",
      "Letter t: Page 7 58.82352941176471%\n",
      "Letter t: Page 7 68.62745098039215%\n",
      "Letter t: Page 7 78.43137254901961%\n",
      "Letter t: Page 7 88.23529411764706%\n",
      "Letter t: Page 7 98.0392156862745%\n",
      "Starting Letter u\n",
      "Letter u: Page 1 0.0%\n",
      "Letter u: Page 1 14.492753623188406%\n",
      "Letter u: Page 1 28.985507246376812%\n",
      "Letter u: Page 1 43.47826086956522%\n",
      "Letter u: Page 1 57.971014492753625%\n",
      "Letter u: Page 1 72.46376811594203%\n",
      "Letter u: Page 1 86.95652173913044%\n",
      "Starting Letter v\n",
      "Letter v: Page 1 0.0%\n",
      "Letter v: Page 1 13.513513513513514%\n",
      "Letter v: Page 1 27.027027027027028%\n",
      "Letter v: Page 1 40.54054054054054%\n",
      "Letter v: Page 1 54.054054054054056%\n",
      "Letter v: Page 1 67.56756756756756%\n",
      "Letter v: Page 1 81.08108108108108%\n",
      "Letter v: Page 1 94.5945945945946%\n",
      "Starting Letter w\n",
      "Letter w: Page 1 0.0%\n",
      "Letter w: Page 1 10.0%\n",
      "Letter w: Page 1 20.0%\n",
      "Letter w: Page 1 30.0%\n",
      "Letter w: Page 1 40.0%\n",
      "Letter w: Page 1 50.0%\n",
      "Letter w: Page 1 60.0%\n",
      "Letter w: Page 1 70.0%\n",
      "Letter w: Page 1 80.0%\n",
      "Letter w: Page 1 90.0%\n",
      "Letter w: Page 2 0.0%\n",
      "Letter w: Page 2 9.900990099009901%\n",
      "Letter w: Page 2 19.801980198019802%\n",
      "Letter w: Page 2 29.7029702970297%\n",
      "Letter w: Page 2 39.603960396039604%\n",
      "Letter w: Page 2 49.504950495049506%\n",
      "Letter w: Page 2 59.4059405940594%\n",
      "Letter w: Page 2 69.3069306930693%\n",
      "Letter w: Page 2 79.20792079207921%\n",
      "Letter w: Page 2 89.10891089108911%\n",
      "Letter w: Page 2 99.00990099009901%\n",
      "Starting Letter x\n",
      "Letter x: Page 1 0.0%\n",
      "Letter x: Page 1 32.25806451612903%\n",
      "Letter x: Page 1 64.51612903225806%\n",
      "Letter x: Page 1 96.7741935483871%\n",
      "Starting Letter y\n",
      "Letter y: Page 1 0.0%\n",
      "Letter y: Page 1 29.411764705882355%\n",
      "Letter y: Page 1 58.82352941176471%\n",
      "Letter y: Page 1 88.23529411764706%\n",
      "Starting Letter z\n",
      "Letter z: Page 1 0.0%\n",
      "Letter z: Page 1 24.390243902439025%\n",
      "Letter z: Page 1 48.78048780487805%\n",
      "Letter z: Page 1 73.17073170731707%\n",
      "Letter z: Page 1 97.5609756097561%\n",
      "Starting Letter 0-9\n"
     ]
    },
    {
     "ename": "AttributeError",
     "evalue": "'NoneType' object has no attribute 'to_pickle'",
     "output_type": "error",
     "traceback": [
      "\u001b[1;31m---------------------------------------------------------------------------\u001b[0m",
      "\u001b[1;31mAttributeError\u001b[0m                            Traceback (most recent call last)",
      "\u001b[1;32m<ipython-input-10-d8b63084004a>\u001b[0m in \u001b[0;36m<module>\u001b[1;34m\u001b[0m\n\u001b[0;32m     45\u001b[0m                         \u001b[0moutput\u001b[0m \u001b[1;33m=\u001b[0m \u001b[0moutput\u001b[0m\u001b[1;33m.\u001b[0m\u001b[0mappend\u001b[0m\u001b[1;33m(\u001b[0m\u001b[0mpd\u001b[0m\u001b[1;33m.\u001b[0m\u001b[0mDataFrame\u001b[0m\u001b[1;33m(\u001b[0m\u001b[0mgame_dict\u001b[0m\u001b[1;33m)\u001b[0m\u001b[1;33m.\u001b[0m\u001b[0mtranspose\u001b[0m\u001b[1;33m(\u001b[0m\u001b[1;33m)\u001b[0m\u001b[1;33m)\u001b[0m\u001b[1;33m\u001b[0m\u001b[1;33m\u001b[0m\u001b[0m\n\u001b[0;32m     46\u001b[0m \u001b[1;33m\u001b[0m\u001b[0m\n\u001b[1;32m---> 47\u001b[1;33m     \u001b[0moutput\u001b[0m\u001b[1;33m.\u001b[0m\u001b[0mto_pickle\u001b[0m\u001b[1;33m(\u001b[0m\u001b[1;34mf\"./Game Data {letter}.pkl\"\u001b[0m\u001b[1;33m)\u001b[0m\u001b[1;33m\u001b[0m\u001b[1;33m\u001b[0m\u001b[0m\n\u001b[0m",
      "\u001b[1;31mAttributeError\u001b[0m: 'NoneType' object has no attribute 'to_pickle'"
     ]
    }
   ],
   "source": [
    "\"\"\"Structure\"\"\"\n",
    "\n",
    "for letter in page_list:\n",
    "    output = None\n",
    "    first_game_flag = True\n",
    "    print(f\"Starting Letter {letter}\")\n",
    "    'iterate through letters in the page_list to create url from pattern'\n",
    "    url = f\"{root_url}/database/{letter}\"\n",
    "    'get the soup version of the page'\n",
    "    first_page_soup =  soup(simple_get(url), \"html.parser\")\n",
    "    num_pages = get_pages(first_page_soup)\n",
    "\n",
    "    page_games_list = first_page_soup.select(f'a[href ^=\"game/{letter}\"]')\n",
    "    counter = 0\n",
    "    for entry in page_games_list:\n",
    "        if counter%10 == 0:\n",
    "            print(f\"Letter {letter}: Page 1 {counter/len(page_games_list)*100}%\")\n",
    "        counter +=1 \n",
    "        if len(entry.attrs) == 1:\n",
    "            game_url = f\"{root_url}/{entry['href']}\"\n",
    "            game_soup = soup(simple_get(game_url),'html.parser')\n",
    "            game_dict = read_game_data(game_soup)\n",
    "            if first_game_flag == True:\n",
    "                first_game_flag = False\n",
    "                output = pd.DataFrame(game_dict).transpose()\n",
    "            else:\n",
    "                if not isinstance(game_dict,type(None)):\n",
    "                    output = output.append(pd.DataFrame(game_dict).transpose())\n",
    "\n",
    "    if num_pages > 1:\n",
    "        for i in range(2,num_pages):\n",
    "            url = f\"{root_url}/database/{letter}/page/{i}\"\n",
    "            page_soup = soup(simple_get(url), \"html.parser\")\n",
    "            page_games_list = page_soup.select(f'a[href ^=\"game/{letter}\"]')\n",
    "            counter = 0\n",
    "            for entry in page_games_list:\n",
    "                if counter%10 == 0:\n",
    "                    print(f\"Letter {letter}: Page {i} {counter/len(page_games_list)*100}%\")\n",
    "                counter +=1 \n",
    "                if len(entry.attrs) == 1:\n",
    "                    game_url = f\"{root_url}/{entry['href']}\"\n",
    "                    game_soup = soup(simple_get(game_url),'html.parser')\n",
    "                    game_dict = read_game_data(game_soup)\n",
    "                    if not isinstance(game_dict,type(None)):\n",
    "                        output = output.append(pd.DataFrame(game_dict).transpose())\n",
    "                        \n",
    "    output.to_pickle(f\"./Game Data {letter}.pkl\")\n"
   ]
  },
  {
   "cell_type": "code",
   "execution_count": 46,
   "metadata": {},
   "outputs": [
    {
     "name": "stdout",
     "output_type": "stream",
     "text": [
      "Starting Letter 0-9\n",
      "Letter 0-9: Page 1 0.0%\n",
      "Letter 0-9: Page 1 10.416666666666668%\n",
      "Letter 0-9: Page 1 20.833333333333336%\n",
      "Letter 0-9: Page 1 31.25%\n",
      "Letter 0-9: Page 1 41.66666666666667%\n",
      "Letter 0-9: Page 1 52.083333333333336%\n",
      "Letter 0-9: Page 1 62.5%\n",
      "Letter 0-9: Page 1 72.91666666666666%\n",
      "Letter 0-9: Page 1 83.33333333333334%\n",
      "Letter 0-9: Page 1 93.75%\n"
     ]
    }
   ],
   "source": [
    "\"\"\"Structure for the final page with non pattern link naming\"\"\"\n",
    "\n",
    "for letter in ['0-9']:\n",
    "    output = None\n",
    "    first_game_flag = True\n",
    "    print(f\"Starting Letter {letter}\")\n",
    "    'iterate through letters in the page_list to create url from pattern'\n",
    "    url = f\"{root_url}/database/{letter}\"\n",
    "    'get the soup version of the page'\n",
    "    first_page_soup =  soup(simple_get(url), \"html.parser\")\n",
    "    num_pages = get_pages(first_page_soup)\n",
    "\n",
    "    page_games_list = first_page_soup.select(f'a[href ^=\"game/\"]')\n",
    "    \n",
    "    for x in page_games_list:\n",
    "        y = str(x.string)\n",
    "        if y != \"None\":\n",
    "            gl.append(f\"game/{y}\")\n",
    "    \n",
    "    counter = 0\n",
    "    for entry in page_games_list:\n",
    "        if counter%10 == 0:\n",
    "            print(f\"Letter {letter}: Page 1 {counter/len(page_games_list)*100}%\")\n",
    "        counter +=1 \n",
    "        if len(entry.attrs) == 1:\n",
    "            game_url = f\"{root_url}/{entry['href']}\"\n",
    "            game_soup = soup(simple_get(game_url),'html.parser')\n",
    "            game_dict = read_game_data(game_soup)\n",
    "            if first_game_flag == True:\n",
    "                first_game_flag = False\n",
    "                output = pd.DataFrame(game_dict).transpose()\n",
    "            else:\n",
    "                if not isinstance(game_dict,type(None)):\n",
    "                    output = output.append(pd.DataFrame(game_dict).transpose())\n",
    "\n",
    "    if num_pages > 1:\n",
    "        for i in range(2,num_pages):\n",
    "            url = f\"{root_url}/database/{letter}/page/{i}\"\n",
    "            page_soup = soup(simple_get(url), \"html.parser\")\n",
    "            page_games_list = page_soup.select(f'a[href ^=\"game/{letter}\"]')\n",
    "            counter = 0\n",
    "            for entry in page_games_list:\n",
    "                if counter%10 == 0:\n",
    "                    print(f\"Letter {letter}: Page {i} {counter/len(page_games_list)*100}%\")\n",
    "                counter +=1 \n",
    "                if len(entry.attrs) == 1:\n",
    "                    game_url = f\"{root_url}/{entry['href']}\"\n",
    "                    game_soup = soup(simple_get(game_url),'html.parser')\n",
    "                    game_dict = read_game_data(game_soup)\n",
    "                    if not isinstance(game_dict,type(None)):\n",
    "                        output = output.append(pd.DataFrame(game_dict).transpose())\n",
    "                        \n",
    "    output.to_pickle(f\"./Game Data {letter}.pkl\")\n"
   ]
  },
  {
   "cell_type": "code",
   "execution_count": 45,
   "metadata": {},
   "outputs": [
    {
     "data": {
      "text/plain": [
       "[[<a href=\"game/wargames\">#WarGames</a>,\n",
       "  <a href=\"game/83\">'83</a>,\n",
       "  <a href=\"game/hack-gu-last-recode\">.hack//G.U. Last Recode</a>,\n",
       "  <a href=\"game/0-ad\">0 A.D.</a>,\n",
       "  <a href=\"game/007-legends\">007 Legends</a>,\n",
       "  <a href=\"game/1-screen-platformer\">1 Screen Platformer</a>,\n",
       "  <a href=\"game/10-second-ninja-x\">10 Second Ninja X</a>,\n",
       "  <a href=\"game/1000-amps\">1000 Amps</a>,\n",
       "  <a href=\"game/103\">103</a>,\n",
       "  <a href=\"game/11-11-memories-retold\">11-11 Memories Retold</a>,\n",
       "  <a href=\"game/112-operator\">112 Operator</a>,\n",
       "  <a href=\"game/140\">140</a>,\n",
       "  <a href=\"game/16bit-trader\">16bit Trader</a>,\n",
       "  <a href=\"game/1701-ad-gold-edition\">1701 A.D. Gold Edition</a>,\n",
       "  <a href=\"game/18-wheels-of-steel-across-america\">18 Wheels of Steel: Across America</a>,\n",
       "  <a href=\"game/18-wheels-of-steel-american-long-haul\">18 Wheels of Steel: American Long Haul</a>,\n",
       "  <a href=\"game/18-wheels-of-steel-convoy\">18 Wheels of Steel: Convoy</a>,\n",
       "  <a href=\"game/18-wheels-of-steel-extreme-trucker\">18 Wheels of Steel: Extreme Trucker</a>,\n",
       "  <a href=\"game/18-wheels-of-steel-haulin\">18 Wheels of Steel: Haulin'</a>,\n",
       "  <a href=\"game/18-wheels-of-steel-pedal-to-the-metal\">18 Wheels of Steel: Pedal to the Metal</a>,\n",
       "  <a href=\"game/1848\">1848</a>,\n",
       "  <a href=\"game/1954-alcatraz\">1954 Alcatraz</a>,\n",
       "  <a href=\"game/1979-revolution-black-friday\">1979 Revolution: Black Friday</a>,\n",
       "  <a href=\"game/1993-space-machine\">1993 Space Machine</a>,\n",
       "  <a href=\"game/1nsane\">1NSANE</a>,\n",
       "  <a href=\"game/25-to-life\">25 to Life</a>,\n",
       "  <a href=\"game/2dark\">2Dark</a>,\n",
       "  <a href=\"game/2moons\">2Moons</a>,\n",
       "  <a href=\"game/2xl-supercross\">2XL Supercross</a>,\n",
       "  <a href=\"game/303-squadron-battle-of-britain\">303 Squadron: Battle of Britain</a>,\n",
       "  <a href=\"game/3switched\">3SwitcheD</a>,\n",
       "  <a href=\"game/404sight\">404Sight</a>,\n",
       "  <a href=\"game/428-shibuya-scramble\">428: Shibuya Scramble</a>,\n",
       "  <a href=\"game/4pm\">4PM</a>,\n",
       "  <a href=\"game/4x4-hummer\">4X4: Hummer </a>,\n",
       "  <a href=\"game/5-minutes-rage\">5 Minutes Rage</a>,\n",
       "  <a href=\"game/5-star-rio-resort\">5 Star Rio Resort</a>,\n",
       "  <a href=\"game/60-parsecs\">60 Parsecs!</a>,\n",
       "  <a href=\"game/60-seconds\">60 Seconds!</a>,\n",
       "  <a href=\"game/7-billion-humans\">7 Billion Humans</a>,\n",
       "  <a href=\"game/7-bones-and-7-stones-the-ritual\">7 Bones and 7 Stones - The Ritual</a>,\n",
       "  <a href=\"game/7-days-to-die\">7 Days to Die</a>,\n",
       "  <a href=\"game/762-high-calibre\">7.62: High Calibre</a>,\n",
       "  <a href=\"game/7554\">7554</a>,\n",
       "  <a href=\"game/7th-sector\">7th Sector</a>,\n",
       "  <a href=\"game/8-bit-armies\">8-Bit Armies</a>,\n",
       "  <a href=\"game/8-bit-armies-arena\">8-Bit Armies: Arena</a>,\n",
       "  <a href=\"game/8-bit-invaders\">8-Bit Invaders!</a>,\n",
       "  <a href=\"game/80-days\">80  Days</a>,\n",
       "  <a href=\"game/88-heroes\">88 Heroes</a>,\n",
       "  <a href=\"game/8bitmmo\">8BitMMO</a>,\n",
       "  <a href=\"game/9-clues-the-secret-of-serpent-creek\">9 Clues: The Secret of Serpent Creek</a>,\n",
       "  <a href=\"game/90-minute-fever\">90 Minute Fever</a>,\n",
       "  <a href=\"game/911-operator\">911 Operator</a>,\n",
       "  <a href=\"game/99-levels-to-hell\">99 Levels To Hell</a>,\n",
       "  <a href=\"game/99vidas\">99Vidas</a>,\n",
       "  <a href=\"game/9th-company-roots-of-terror\">9th Company: Roots of Terror</a>,\n",
       "  <a href=\"game/esz-kerek\">Ész-kerék</a>,\n",
       "  <a href=\"game/ete\">été</a>,\n",
       "  <a href=\"game/reality\">＜/reality＞</a>,\n",
       "  <a class=\"side_np_flex_a\" href=\"game/fortnite\"><img alt=\"Fortnite\" src=\"https://gepig.com/game_cover_200w/2366.jpg\"/><div class=\"side_np_flex_img\"><span>Fortnite</span></div></a>,\n",
       "  <a class=\"side_np_flex_a\" href=\"game/grand-theft-auto-v\"><img alt=\"Grand Theft Auto V\" src=\"https://gepig.com/game_cover_200w/1369.jpg\"/><div class=\"side_np_flex_img\"><span>Grand Theft Auto V</span></div></a>,\n",
       "  <a class=\"side_np_flex_a\" href=\"game/playerunknowns-battlegrounds\"><img alt=\"PLAYERUNKNOWN'S BATTLEGROUNDS\" src=\"https://gepig.com/game_cover_200w/4324.jpg\"/><div class=\"side_np_flex_img\"><span>PLAYERUNKNOWN'S BATTLEGROUNDS</span></div></a>,\n",
       "  <a class=\"side_np_flex_a\" href=\"game/forza-horizon-4\"><img alt=\"Forza Horizon 4\" src=\"https://gepig.com/game_cover_200w/5518.jpg\"/><div class=\"side_np_flex_img\"><span>Forza Horizon 4</span></div></a>,\n",
       "  <a class=\"side_np_flex_a\" href=\"game/greedfall\"><img alt=\"GreedFall\" src=\"https://gepig.com/game_cover_200w/4205.jpg\"/><div class=\"side_np_flex_img\"><span>GreedFall</span></div></a>,\n",
       "  <a class=\"side_np_flex_a\" href=\"game/borderlands-3\"><img alt=\"Borderlands 3\" src=\"https://gepig.com/game_cover_200w/4286.jpg\"/><div class=\"side_np_flex_img\"><span>Borderlands 3</span></div></a>,\n",
       "  <a class=\"side_np_flex_a\" href=\"game/gears-5\" style=\"display: none;\"><img alt=\"Gears 5\" src=\"https://gepig.com/game_cover_200w/5607.jpg\"/><div class=\"side_np_flex_img\"><span>Gears 5</span></div></a>,\n",
       "  <a class=\"side_np_flex_a\" href=\"game/tom-clancys-ghost-recon-breakpoint\" style=\"display: none;\"><img alt=\"Tom Clancy's Ghost Recon Breakpoint\" src=\"https://gepig.com/game_cover_200w/6134.jpg\"/><div class=\"side_np_flex_img\"><span>Tom Clancy's Ghost Recon Breakpoint</span></div></a>,\n",
       "  <a class=\"side_np_flex_a\" href=\"game/battlefield-5\" style=\"display: none;\"><img alt=\"Battlefield 5\" src=\"https://gepig.com/game_cover_200w/5387.jpg\"/><div class=\"side_np_flex_img\"><span>Battlefield 5</span></div></a>,\n",
       "  <a class=\"side_np_flex_a\" href=\"game/call-of-duty-modern-warfare\" style=\"display: none;\"><img alt=\"Call of Duty: Modern Warfare\" src=\"https://gepig.com/game_cover_200w/6151.jpg\"/><div class=\"side_np_flex_img\"><span>Call of Duty: Modern Warfare</span></div></a>,\n",
       "  <a class=\"side_np_flex_a\" href=\"game/control\" style=\"display: none;\"><img alt=\"Control\" src=\"https://gepig.com/game_cover_200w/5639.jpg\"/><div class=\"side_np_flex_img\"><span>Control</span></div></a>,\n",
       "  <a class=\"side_np_flex_a\" href=\"game/tom-clancys-rainbow-six-siege\" style=\"display: none;\"><img alt=\"Tom Clancy's Rainbow Six Siege\" src=\"https://gepig.com/game_cover_200w/1086.jpg\"/><div class=\"side_np_flex_img\"><span>Tom Clancy's Rainbow Six Siege</span></div></a>,\n",
       "  <a class=\"side_np_flex_a\" href=\"game/borderlands-3\"><img alt=\"Borderlands 3\" src=\"https://gepig.com/game_cover_200w/4286.jpg\"/><div class=\"side_np_flex_img\"><span>Borderlands 3</span></div></a>,\n",
       "  <a class=\"side_np_flex_a\" href=\"game/nascar-heat-4\"><img alt=\"NASCAR Heat 4\" src=\"https://gepig.com/game_cover_200w/6237.jpg\"/><div class=\"side_np_flex_img\"><span>NASCAR Heat 4</span></div></a>,\n",
       "  <a class=\"side_np_flex_a\" href=\"game/greedfall\"><img alt=\"GreedFall\" src=\"https://gepig.com/game_cover_200w/4205.jpg\"/><div class=\"side_np_flex_img\"><span>GreedFall</span></div></a>,\n",
       "  <a class=\"side_np_flex_a\" href=\"game/battlewake\"><img alt=\"Battlewake\" src=\"https://gepig.com/game_cover_200w/6132.jpg\"/><div class=\"side_np_flex_img\"><span>Battlewake</span></div></a>,\n",
       "  <a class=\"side_np_flex_a\" href=\"game/blasphemous\"><img alt=\"Blasphemous\" src=\"https://gepig.com/game_cover_200w/6164.jpg\"/><div class=\"side_np_flex_img\"><span>Blasphemous</span></div></a>,\n",
       "  <a class=\"side_np_flex_a\" href=\"game/efootball-pes-2020\"><img alt=\"eFootball PES 2020\" src=\"https://gepig.com/game_cover_200w/6216.jpg\"/><div class=\"side_np_flex_img\"><span>eFootball PES 2020</span></div></a>,\n",
       "  <a class=\"side_np_flex_a\" href=\"game/lorn\" style=\"display: none;\"><img alt=\"Kings of Lorn: The Fall of Ebris\" src=\"https://gepig.com/game_cover_200w/5004.jpg\"/><div class=\"side_np_flex_img\"><span>Kings of Lorn: The Fall of Ebris</span></div></a>,\n",
       "  <a class=\"side_np_flex_a\" href=\"game/unrailed\" style=\"display: none;\"><img alt=\"Unrailed!\" src=\"https://gepig.com/game_cover_200w/6131.jpg\"/><div class=\"side_np_flex_img\"><span>Unrailed!</span></div></a>,\n",
       "  <a class=\"side_np_flex_a\" href=\"game/discrepant\" style=\"display: none;\"><img alt=\"Discrepant\" src=\"https://gepig.com/game_cover_200w/3853.jpg\"/><div class=\"side_np_flex_img\"><span>Discrepant</span></div></a>,\n",
       "  <a class=\"side_np_flex_a\" href=\"game/gears-5\" style=\"display: none;\"><img alt=\"Gears 5\" src=\"https://gepig.com/game_cover_200w/5607.jpg\"/><div class=\"side_np_flex_img\"><span>Gears 5</span></div></a>,\n",
       "  <a class=\"side_np_flex_a\" href=\"game/wrc-8-fia-world-rally-championship\" style=\"display: none;\"><img alt=\"WRC 8\" src=\"https://gepig.com/game_cover_200w/5976.jpg\"/><div class=\"side_np_flex_img\"><span>WRC 8</span></div></a>,\n",
       "  <a class=\"side_np_flex_a\" href=\"game/starpoint-gemini-3\" style=\"display: none;\"><img alt=\"Starpoint Gemini 3\" src=\"https://gepig.com/game_cover_200w/6017.jpg\"/><div class=\"side_np_flex_img\"><span>Starpoint Gemini 3</span></div></a>,\n",
       "  <a class=\"side_np_flex_a\" href=\"game/session\"><img alt=\"Session: Skateboarding Sim Game\" src=\"https://gepig.com/game_cover_200w/5609.jpg\"/><div class=\"side_np_flex_img\"><span>Session: Skateboarding Sim Game</span></div></a>,\n",
       "  <a class=\"side_np_flex_a\" href=\"game/devils-hunt\"><img alt=\"Devil's Hunt\" src=\"https://gepig.com/game_cover_200w/5666.jpg\"/><div class=\"side_np_flex_img\"><span>Devil's Hunt</span></div></a>,\n",
       "  <a class=\"side_np_flex_a\" href=\"game/daymare-1998\"><img alt=\"Daymare: 1998\" src=\"https://gepig.com/game_cover_200w/5989.jpg\"/><div class=\"side_np_flex_img\"><span>Daymare: 1998</span></div></a>,\n",
       "  <a class=\"side_np_flex_a\" href=\"game/little-misfortune\"><img alt=\"Little Misfortune\" src=\"https://gepig.com/game_cover_200w/5813.jpg\"/><div class=\"side_np_flex_img\"><span>Little Misfortune</span></div></a>,\n",
       "  <a class=\"side_np_flex_a\" href=\"game/overland\"><img alt=\"Overland\" src=\"https://gepig.com/game_cover_200w/3569.jpg\"/><div class=\"side_np_flex_img\"><span>Overland</span></div></a>,\n",
       "  <a class=\"side_np_flex_a\" href=\"game/police-stories\"><img alt=\"Police Stories\" src=\"https://gepig.com/game_cover_200w/5023.jpg\"/><div class=\"side_np_flex_img\"><span>Police Stories</span></div></a>,\n",
       "  <a class=\"side_np_flex_a\" href=\"game/untitled-goose-game\" style=\"display: none;\"><img alt=\"Untitled Goose Game\" src=\"https://gepig.com/game_cover_200w/5738.jpg\"/><div class=\"side_np_flex_img\"><span>Untitled Goose Game</span></div></a>,\n",
       "  <a class=\"side_np_flex_a\" href=\"game/signal-decay\" style=\"display: none;\"><img alt=\"Signal Decay\" src=\"https://gepig.com/game_cover_200w/6108.jpg\"/><div class=\"side_np_flex_img\"><span>Signal Decay</span></div></a>,\n",
       "  <a class=\"side_np_flex_a\" href=\"game/ni-no-kuni-wrath-of-the-white-witch-remastered\" style=\"display: none;\"><img alt=\"Ni no Kuni Wrath of the White Witch Remastered\" src=\"https://gepig.com/game_cover_200w/6301.jpg\"/><div class=\"side_np_flex_img\"><span>Ni no Kuni Wrath of the White Witch Remastered</span></div></a>,\n",
       "  <a class=\"side_np_flex_a\" href=\"game/invasion-machine\" style=\"display: none;\"><img alt=\"Invasion Machine\" src=\"https://gepig.com/game_cover_200w/5865.jpg\"/><div class=\"side_np_flex_img\"><span>Invasion Machine</span></div></a>,\n",
       "  <a class=\"side_np_flex_a\" href=\"game/the-surge-2\" style=\"display: none;\"><img alt=\"The Surge 2\" src=\"https://gepig.com/game_cover_200w/5342.jpg\"/><div class=\"side_np_flex_img\"><span>The Surge 2</span></div></a>,\n",
       "  <a class=\"side_np_flex_a\" href=\"game/noita\" style=\"display: none;\"><img alt=\"Noita\" src=\"https://gepig.com/game_cover_200w/5637.jpg\"/><div class=\"side_np_flex_img\"><span>Noita</span></div></a>]]"
      ]
     },
     "execution_count": 45,
     "metadata": {},
     "output_type": "execute_result"
    }
   ],
   "source": [
    "page_games_list"
   ]
  },
  {
   "cell_type": "code",
   "execution_count": 13,
   "metadata": {},
   "outputs": [
    {
     "name": "stdout",
     "output_type": "stream",
     "text": [
      "caught\n"
     ]
    }
   ],
   "source": [
    "game_soup\n",
    "\n",
    "\"read in the game info from the header\"\n",
    "head_text = game_soup.find_all('div',{'class':'game_head_details_row'})\n",
    "output = {}\n",
    "for entry in head_text:\n",
    "    string = entry.string\n",
    "    if not isinstance(string,type(None)):\n",
    "        txt = string.split(':')\n",
    "        if len(txt) < 2:\n",
    "            if txt[0].lower() == \"cancelled\":\n",
    "                print(\"caught\")\n",
    "            continue\n",
    "        output[(\"Game Info\",txt[0].strip())]= txt[1].strip()\n",
    "\n",
    "# req_block = game_soup.find_all('div',{'class':'srb_row'})\n",
    "# if len(req_block) == 0:\n",
    "#     print('caught')\n",
    "# line_list = [str(y.string).strip() for x in req_block[0].children for y in x] \n",
    "# req_type_list = line_list #list of requirement types available\n",
    "\n",
    "# \"pulls in requirements line by line\"\n",
    "# for line in req_block[1:]:\n",
    "#     line_list = [str(y.string).strip() for x in line.children for y in x]\n",
    "#     req_type_str = req_type_list[0].split()[0]\n",
    "#     temp = {(req_type_str,line_list[0][:-1]):line_list[1]}\n",
    "#     'if there are also recommended requirements then read those in'\n",
    "#     if len(req_type_list) == 2:\n",
    "#         if len(line_list) == 4:\n",
    "#             req_type_str = req_type_list[1].split()[0]\n",
    "#             temp = {(req_type_str,line_list[2][:-1]):line_list[3]}"
   ]
  },
  {
   "cell_type": "code",
   "execution_count": 13,
   "metadata": {},
   "outputs": [
    {
     "data": {
      "text/html": [
       "<div>\n",
       "<style scoped>\n",
       "    .dataframe tbody tr th:only-of-type {\n",
       "        vertical-align: middle;\n",
       "    }\n",
       "\n",
       "    .dataframe tbody tr th {\n",
       "        vertical-align: top;\n",
       "    }\n",
       "\n",
       "    .dataframe thead tr th {\n",
       "        text-align: left;\n",
       "    }\n",
       "</style>\n",
       "<table border=\"1\" class=\"dataframe\">\n",
       "  <thead>\n",
       "    <tr>\n",
       "      <th></th>\n",
       "      <th colspan=\"5\" halign=\"left\">Game Info</th>\n",
       "      <th colspan=\"6\" halign=\"left\">Minimum</th>\n",
       "    </tr>\n",
       "    <tr>\n",
       "      <th></th>\n",
       "      <th>Developer</th>\n",
       "      <th>Genre</th>\n",
       "      <th>Popularity</th>\n",
       "      <th>Release Date</th>\n",
       "      <th>Reviews</th>\n",
       "      <th>CPU</th>\n",
       "      <th>DX</th>\n",
       "      <th>GPU</th>\n",
       "      <th>OS</th>\n",
       "      <th>RAM</th>\n",
       "      <th>Store</th>\n",
       "    </tr>\n",
       "  </thead>\n",
       "  <tbody>\n",
       "    <tr>\n",
       "      <th>A Bird Story</th>\n",
       "      <td>Freebird Games</td>\n",
       "      <td>Adventure, Role-playing game</td>\n",
       "      <td>~1000# ■</td>\n",
       "      <td>2014. November 07. (PC)</td>\n",
       "      <td>Mixed (7.0)</td>\n",
       "      <td>&gt; Intel Pentium III 800 MHz</td>\n",
       "      <td>Version 9.0c</td>\n",
       "      <td>1024x768 High Color +</td>\n",
       "      <td>None</td>\n",
       "      <td>2 GB RAM</td>\n",
       "      <td>200 MB available space</td>\n",
       "    </tr>\n",
       "  </tbody>\n",
       "</table>\n",
       "</div>"
      ],
      "text/plain": [
       "                   Game Info                                           \\\n",
       "                   Developer                         Genre Popularity   \n",
       "A Bird Story  Freebird Games  Adventure, Role-playing game   ~1000# ■   \n",
       "\n",
       "                                                    \\\n",
       "                         Release Date      Reviews   \n",
       "A Bird Story  2014. November 07. (PC)  Mixed (7.0)   \n",
       "\n",
       "                                  Minimum                \\\n",
       "                                      CPU            DX   \n",
       "A Bird Story  > Intel Pentium III 800 MHz  Version 9.0c   \n",
       "\n",
       "                                                                             \n",
       "                                GPU    OS       RAM                   Store  \n",
       "A Bird Story  1024x768 High Color +  None  2 GB RAM  200 MB available space  "
      ]
     },
     "execution_count": 13,
     "metadata": {},
     "output_type": "execute_result"
    }
   ],
   "source": [
    "output"
   ]
  },
  {
   "cell_type": "code",
   "execution_count": 15,
   "metadata": {},
   "outputs": [],
   "source": [
    "tst = read_game_data(game_soup2)"
   ]
  },
  {
   "cell_type": "code",
   "execution_count": 16,
   "metadata": {},
   "outputs": [
    {
     "data": {
      "text/plain": [
       "{'A House of Many Doors': {('Game Info',\n",
       "   'Release Date'): '2017. February 03. (PC)',\n",
       "  ('Game Info', 'Sys. Reqs.'): 'Very low (4/7)',\n",
       "  ('Game Info', 'Popularity'): '~1600# ■',\n",
       "  ('Game Info', 'Genre'): 'Role-playing game',\n",
       "  ('Game Info', 'Developer'): 'Pixel Trickery',\n",
       "  ('Minimum', 'CPU'): '(Any)',\n",
       "  ('Recommended', 'CPU'): '2GHz+',\n",
       "  ('Minimum', 'RAM'): '2 GB RAM',\n",
       "  ('Recommended', 'RAM'): '4 GB RAM',\n",
       "  ('Minimum', 'GPU'): '(Any)',\n",
       "  ('Recommended', 'GPU'): '512MB',\n",
       "  ('Minimum', 'DX'): 'Version 9.0',\n",
       "  ('Recommended', 'DX'): 'Version 9.0',\n",
       "  ('Minimum', 'OS'): 'None',\n",
       "  ('Recommended', 'OS'): 'Windows XP, Vista, 7, 10',\n",
       "  ('Minimum', 'Store'): '400 MB available space',\n",
       "  ('Recommended', 'Store'): '400 MB available space'}}"
      ]
     },
     "execution_count": 16,
     "metadata": {},
     "output_type": "execute_result"
    }
   ],
   "source": [
    "tst"
   ]
  },
  {
   "cell_type": "code",
   "execution_count": 17,
   "metadata": {},
   "outputs": [
    {
     "data": {
      "text/html": [
       "<div>\n",
       "<style scoped>\n",
       "    .dataframe tbody tr th:only-of-type {\n",
       "        vertical-align: middle;\n",
       "    }\n",
       "\n",
       "    .dataframe tbody tr th {\n",
       "        vertical-align: top;\n",
       "    }\n",
       "\n",
       "    .dataframe thead tr th {\n",
       "        text-align: left;\n",
       "    }\n",
       "</style>\n",
       "<table border=\"1\" class=\"dataframe\">\n",
       "  <thead>\n",
       "    <tr>\n",
       "      <th></th>\n",
       "      <th colspan=\"6\" halign=\"left\">Game Info</th>\n",
       "      <th colspan=\"6\" halign=\"left\">Minimum</th>\n",
       "      <th colspan=\"6\" halign=\"left\">Recommended</th>\n",
       "    </tr>\n",
       "    <tr>\n",
       "      <th></th>\n",
       "      <th>Developer</th>\n",
       "      <th>Genre</th>\n",
       "      <th>Popularity</th>\n",
       "      <th>Release Date</th>\n",
       "      <th>Reviews</th>\n",
       "      <th>Sys. Reqs.</th>\n",
       "      <th>CPU</th>\n",
       "      <th>DX</th>\n",
       "      <th>GPU</th>\n",
       "      <th>OS</th>\n",
       "      <th>RAM</th>\n",
       "      <th>Store</th>\n",
       "      <th>CPU</th>\n",
       "      <th>DX</th>\n",
       "      <th>GPU</th>\n",
       "      <th>OS</th>\n",
       "      <th>RAM</th>\n",
       "      <th>Store</th>\n",
       "    </tr>\n",
       "  </thead>\n",
       "  <tbody>\n",
       "    <tr>\n",
       "      <th>A Bird Story</th>\n",
       "      <td>Freebird Games</td>\n",
       "      <td>Adventure, Role-playing game</td>\n",
       "      <td>~1000# ■</td>\n",
       "      <td>2014. November 07. (PC)</td>\n",
       "      <td>Mixed (7.0)</td>\n",
       "      <td>NaN</td>\n",
       "      <td>&gt; Intel Pentium III 800 MHz</td>\n",
       "      <td>Version 9.0c</td>\n",
       "      <td>1024x768 High Color +</td>\n",
       "      <td>None</td>\n",
       "      <td>2 GB RAM</td>\n",
       "      <td>200 MB available space</td>\n",
       "      <td>NaN</td>\n",
       "      <td>NaN</td>\n",
       "      <td>NaN</td>\n",
       "      <td>NaN</td>\n",
       "      <td>NaN</td>\n",
       "      <td>NaN</td>\n",
       "    </tr>\n",
       "    <tr>\n",
       "      <th>A House of Many Doors</th>\n",
       "      <td>Pixel Trickery</td>\n",
       "      <td>Role-playing game</td>\n",
       "      <td>~1600# ■</td>\n",
       "      <td>2017. February 03. (PC)</td>\n",
       "      <td>NaN</td>\n",
       "      <td>Very low (4/7)</td>\n",
       "      <td>(Any)</td>\n",
       "      <td>Version 9.0</td>\n",
       "      <td>(Any)</td>\n",
       "      <td>None</td>\n",
       "      <td>2 GB RAM</td>\n",
       "      <td>400 MB available space</td>\n",
       "      <td>2GHz+</td>\n",
       "      <td>Version 9.0</td>\n",
       "      <td>512MB</td>\n",
       "      <td>Windows XP, Vista, 7, 10</td>\n",
       "      <td>4 GB RAM</td>\n",
       "      <td>400 MB available space</td>\n",
       "    </tr>\n",
       "  </tbody>\n",
       "</table>\n",
       "</div>"
      ],
      "text/plain": [
       "                            Game Info                                \\\n",
       "                            Developer                         Genre   \n",
       "A Bird Story           Freebird Games  Adventure, Role-playing game   \n",
       "A House of Many Doors  Pixel Trickery             Role-playing game   \n",
       "\n",
       "                                                                        \\\n",
       "                      Popularity             Release Date      Reviews   \n",
       "A Bird Story            ~1000# ■  2014. November 07. (PC)  Mixed (7.0)   \n",
       "A House of Many Doors   ~1600# ■  2017. February 03. (PC)          NaN   \n",
       "\n",
       "                                                           Minimum  \\\n",
       "                           Sys. Reqs.                          CPU   \n",
       "A Bird Story                      NaN  > Intel Pentium III 800 MHz   \n",
       "A House of Many Doors  Very low (4/7)                        (Any)   \n",
       "\n",
       "                                                                            \\\n",
       "                                 DX                    GPU    OS       RAM   \n",
       "A Bird Story           Version 9.0c  1024x768 High Color +  None  2 GB RAM   \n",
       "A House of Many Doors   Version 9.0                  (Any)  None  2 GB RAM   \n",
       "\n",
       "                                              Recommended                      \\\n",
       "                                        Store         CPU           DX    GPU   \n",
       "A Bird Story           200 MB available space         NaN          NaN    NaN   \n",
       "A House of Many Doors  400 MB available space       2GHz+  Version 9.0  512MB   \n",
       "\n",
       "                                                           \\\n",
       "                                             OS       RAM   \n",
       "A Bird Story                                NaN       NaN   \n",
       "A House of Many Doors  Windows XP, Vista, 7, 10  4 GB RAM   \n",
       "\n",
       "                                               \n",
       "                                        Store  \n",
       "A Bird Story                              NaN  \n",
       "A House of Many Doors  400 MB available space  "
      ]
     },
     "execution_count": 17,
     "metadata": {},
     "output_type": "execute_result"
    }
   ],
   "source": [
    "output.append(pd.DataFrame(tst).transpose())"
   ]
  },
  {
   "cell_type": "code",
   "execution_count": 18,
   "metadata": {},
   "outputs": [
    {
     "data": {
      "text/html": [
       "<div>\n",
       "<style scoped>\n",
       "    .dataframe tbody tr th:only-of-type {\n",
       "        vertical-align: middle;\n",
       "    }\n",
       "\n",
       "    .dataframe tbody tr th {\n",
       "        vertical-align: top;\n",
       "    }\n",
       "\n",
       "    .dataframe thead tr th {\n",
       "        text-align: left;\n",
       "    }\n",
       "</style>\n",
       "<table border=\"1\" class=\"dataframe\">\n",
       "  <thead>\n",
       "    <tr>\n",
       "      <th></th>\n",
       "      <th colspan=\"5\" halign=\"left\">Game Info</th>\n",
       "      <th colspan=\"6\" halign=\"left\">Minimum</th>\n",
       "    </tr>\n",
       "    <tr>\n",
       "      <th></th>\n",
       "      <th>Developer</th>\n",
       "      <th>Genre</th>\n",
       "      <th>Popularity</th>\n",
       "      <th>Release Date</th>\n",
       "      <th>Reviews</th>\n",
       "      <th>CPU</th>\n",
       "      <th>DX</th>\n",
       "      <th>GPU</th>\n",
       "      <th>OS</th>\n",
       "      <th>RAM</th>\n",
       "      <th>Store</th>\n",
       "    </tr>\n",
       "  </thead>\n",
       "  <tbody>\n",
       "    <tr>\n",
       "      <th>A Bird Story</th>\n",
       "      <td>Freebird Games</td>\n",
       "      <td>Adventure, Role-playing game</td>\n",
       "      <td>~1000# ■</td>\n",
       "      <td>2014. November 07. (PC)</td>\n",
       "      <td>Mixed (7.0)</td>\n",
       "      <td>&gt; Intel Pentium III 800 MHz</td>\n",
       "      <td>Version 9.0c</td>\n",
       "      <td>1024x768 High Color +</td>\n",
       "      <td>None</td>\n",
       "      <td>2 GB RAM</td>\n",
       "      <td>200 MB available space</td>\n",
       "    </tr>\n",
       "  </tbody>\n",
       "</table>\n",
       "</div>"
      ],
      "text/plain": [
       "                   Game Info                                           \\\n",
       "                   Developer                         Genre Popularity   \n",
       "A Bird Story  Freebird Games  Adventure, Role-playing game   ~1000# ■   \n",
       "\n",
       "                                                    \\\n",
       "                         Release Date      Reviews   \n",
       "A Bird Story  2014. November 07. (PC)  Mixed (7.0)   \n",
       "\n",
       "                                  Minimum                \\\n",
       "                                      CPU            DX   \n",
       "A Bird Story  > Intel Pentium III 800 MHz  Version 9.0c   \n",
       "\n",
       "                                                                             \n",
       "                                GPU    OS       RAM                   Store  \n",
       "A Bird Story  1024x768 High Color +  None  2 GB RAM  200 MB available space  "
      ]
     },
     "execution_count": 18,
     "metadata": {},
     "output_type": "execute_result"
    }
   ],
   "source": [
    "output"
   ]
  },
  {
   "cell_type": "code",
   "execution_count": 14,
   "metadata": {},
   "outputs": [],
   "source": [
    "test_url = \"https://gamesystemrequirements.com/game/a-bird-story\"\n",
    "test_url2 = \"https://gamesystemrequirements.com/game/a-house-of-many-doors\"\n",
    "game_soup = soup(simple_get(test_url),'html.parser')\n",
    "game_soup2 = soup(simple_get(test_url2),'html.parser')"
   ]
  },
  {
   "cell_type": "code",
   "execution_count": null,
   "metadata": {},
   "outputs": [],
   "source": [
    "a = read_game_data(game_soup)\n",
    "b = read_game_data(game_soup2)      "
   ]
  },
  {
   "cell_type": "code",
   "execution_count": null,
   "metadata": {},
   "outputs": [],
   "source": [
    "game_title = game_soup.find('div',{\"class\":'game_head_title'}).string.strip()"
   ]
  },
  {
   "cell_type": "code",
   "execution_count": null,
   "metadata": {},
   "outputs": [],
   "source": [
    "z1 = pd.DataFrame(a).transpose()\n",
    "z2 = pd.DataFrame(b).transpose()"
   ]
  },
  {
   "cell_type": "code",
   "execution_count": null,
   "metadata": {},
   "outputs": [],
   "source": [
    "z1.append(z2)"
   ]
  },
  {
   "cell_type": "code",
   "execution_count": null,
   "metadata": {},
   "outputs": [],
   "source": [
    "ind = list(a.keys())[0]\n",
    "tstdf = pd.DataFrame(a[ind], index = [ind])"
   ]
  },
  {
   "cell_type": "code",
   "execution_count": null,
   "metadata": {},
   "outputs": [],
   "source": [
    "tstdf"
   ]
  },
  {
   "cell_type": "code",
   "execution_count": null,
   "metadata": {},
   "outputs": [],
   "source": [
    "ind = []\n",
    "row_name = list(a.keys())[0]\n",
    "info_dict = a[row_name]\n",
    "for key in info_dict.keys():\n",
    "    if not isinstance(info_dict[key],dict):\n",
    "        ind.append(key)\n",
    "    else:\n",
    "        for key2 in info_dict[key]:\n",
    "            ind.append((key,key2))"
   ]
  },
  {
   "cell_type": "code",
   "execution_count": null,
   "metadata": {},
   "outputs": [],
   "source": [
    "tstdf = pd.DataFrame.from_dict(a,orient = 'index')"
   ]
  },
  {
   "cell_type": "code",
   "execution_count": null,
   "metadata": {},
   "outputs": [],
   "source": [
    "z= list(tstdf['Minimum system requirements:'])"
   ]
  },
  {
   "cell_type": "code",
   "execution_count": null,
   "metadata": {},
   "outputs": [],
   "source": [
    "z2 = pd.DataFrame.from_dict(z[0], columns = pd.MultiIndex.from_arrays([['Min'],list(z[0].keys())]))"
   ]
  },
  {
   "cell_type": "code",
   "execution_count": null,
   "metadata": {},
   "outputs": [],
   "source": [
    "for x in z.columns:\n",
    "    tstdf['Minimum system requirements:',x] = "
   ]
  },
  {
   "cell_type": "code",
   "execution_count": null,
   "metadata": {},
   "outputs": [],
   "source": [
    "ds = tstdf['Minimum system requirements:']"
   ]
  },
  {
   "cell_type": "code",
   "execution_count": null,
   "metadata": {},
   "outputs": [],
   "source": [
    "\"Scratch Work below this\""
   ]
  },
  {
   "cell_type": "code",
   "execution_count": 11,
   "metadata": {},
   "outputs": [],
   "source": [
    "url = \"https://gamesystemrequirements.com/database/0-9\"\n",
    "s = soup(simple_get(url),\"html.parser\")"
   ]
  },
  {
   "cell_type": "code",
   "execution_count": null,
   "metadata": {},
   "outputs": [],
   "source": [
    "req_types = [x.string[:-1] for x in game_html.find_all('div',{'class':'tbl6'})]"
   ]
  },
  {
   "cell_type": "code",
   "execution_count": 18,
   "metadata": {},
   "outputs": [],
   "source": [
    "page_games_list = s.select(f'a[href ^=\"game/\"]')"
   ]
  },
  {
   "cell_type": "code",
   "execution_count": 37,
   "metadata": {},
   "outputs": [
    {
     "ename": "SyntaxError",
     "evalue": "invalid syntax (<ipython-input-37-2a15fa503fbb>, line 1)",
     "output_type": "error",
     "traceback": [
      "\u001b[1;36m  File \u001b[1;32m\"<ipython-input-37-2a15fa503fbb>\"\u001b[1;36m, line \u001b[1;32m1\u001b[0m\n\u001b[1;33m    [str(x.string) if x!= None for x in page_games_list]\u001b[0m\n\u001b[1;37m                                 ^\u001b[0m\n\u001b[1;31mSyntaxError\u001b[0m\u001b[1;31m:\u001b[0m invalid syntax\n"
     ]
    }
   ],
   "source": [
    "[str(x.string) if x!= None for x in page_games_list]"
   ]
  },
  {
   "cell_type": "code",
   "execution_count": 42,
   "metadata": {},
   "outputs": [],
   "source": [
    "gl = []\n",
    "for x in page_games_list:\n",
    "    y = str(x.string)\n",
    "    if y != \"None\":\n",
    "        gl.append(y)\n"
   ]
  },
  {
   "cell_type": "code",
   "execution_count": 43,
   "metadata": {},
   "outputs": [
    {
     "data": {
      "text/plain": [
       "['#WarGames',\n",
       " \"'83\",\n",
       " '.hack//G.U. Last Recode',\n",
       " '0 A.D.',\n",
       " '007 Legends',\n",
       " '1 Screen Platformer',\n",
       " '10 Second Ninja X',\n",
       " '1000 Amps',\n",
       " '103',\n",
       " '11-11 Memories Retold',\n",
       " '112 Operator',\n",
       " '140',\n",
       " '16bit Trader',\n",
       " '1701 A.D. Gold Edition',\n",
       " '18 Wheels of Steel: Across America',\n",
       " '18 Wheels of Steel: American Long Haul',\n",
       " '18 Wheels of Steel: Convoy',\n",
       " '18 Wheels of Steel: Extreme Trucker',\n",
       " \"18 Wheels of Steel: Haulin'\",\n",
       " '18 Wheels of Steel: Pedal to the Metal',\n",
       " '1848',\n",
       " '1954 Alcatraz',\n",
       " '1979 Revolution: Black Friday',\n",
       " '1993 Space Machine',\n",
       " '1NSANE',\n",
       " '25 to Life',\n",
       " '2Dark',\n",
       " '2Moons',\n",
       " '2XL Supercross',\n",
       " '303 Squadron: Battle of Britain',\n",
       " '3SwitcheD',\n",
       " '404Sight',\n",
       " '428: Shibuya Scramble',\n",
       " '4PM',\n",
       " '4X4: Hummer ',\n",
       " '5 Minutes Rage',\n",
       " '5 Star Rio Resort',\n",
       " '60 Parsecs!',\n",
       " '60 Seconds!',\n",
       " '7 Billion Humans',\n",
       " '7 Bones and 7 Stones - The Ritual',\n",
       " '7 Days to Die',\n",
       " '7.62: High Calibre',\n",
       " '7554',\n",
       " '7th Sector',\n",
       " '8-Bit Armies',\n",
       " '8-Bit Armies: Arena',\n",
       " '8-Bit Invaders!',\n",
       " '80  Days',\n",
       " '88 Heroes',\n",
       " '8BitMMO',\n",
       " '9 Clues: The Secret of Serpent Creek',\n",
       " '90 Minute Fever',\n",
       " '911 Operator',\n",
       " '99 Levels To Hell',\n",
       " '99Vidas',\n",
       " '9th Company: Roots of Terror',\n",
       " 'Ész-kerék',\n",
       " 'été',\n",
       " '＜/reality＞']"
      ]
     },
     "execution_count": 43,
     "metadata": {},
     "output_type": "execute_result"
    }
   ],
   "source": [
    "gl"
   ]
  },
  {
   "cell_type": "code",
   "execution_count": null,
   "metadata": {},
   "outputs": [],
   "source": [
    "for req in req_types:\n",
    "    output[req] = {}\n",
    "\n",
    "if len(output[req]) == 1:\n",
    "    "
   ]
  },
  {
   "cell_type": "code",
   "execution_count": null,
   "metadata": {},
   "outputs": [],
   "source": []
  },
  {
   "cell_type": "code",
   "execution_count": null,
   "metadata": {},
   "outputs": [],
   "source": [
    "[y.string for x in req_block[1].children for y in x]"
   ]
  },
  {
   "cell_type": "code",
   "execution_count": null,
   "metadata": {},
   "outputs": [],
   "source": [
    "html.find_all('a')\n",
    "a = html.select(f'a[href ^=\"game/{letter}\"]')"
   ]
  },
  {
   "cell_type": "code",
   "execution_count": null,
   "metadata": {},
   "outputs": [],
   "source": [
    "read_data(f\"{root_url}/{a[0]['href']}\")"
   ]
  },
  {
   "cell_type": "code",
   "execution_count": null,
   "metadata": {},
   "outputs": [],
   "source": [
    "game_html = simple_get(f\"{root_url}/{a[0]['href']}\")\n",
    "game = soup(game_html, 'html.parser') "
   ]
  },
  {
   "cell_type": "code",
   "execution_count": null,
   "metadata": {},
   "outputs": [],
   "source": [
    "f\"{root_url}/{a[0]['href']}\""
   ]
  },
  {
   "cell_type": "code",
   "execution_count": null,
   "metadata": {},
   "outputs": [],
   "source": [
    "game.find_all('div')"
   ]
  },
  {
   "cell_type": "code",
   "execution_count": null,
   "metadata": {
    "scrolled": true
   },
   "outputs": [],
   "source": [
    "output\n"
   ]
  },
  {
   "cell_type": "code",
   "execution_count": null,
   "metadata": {},
   "outputs": [],
   "source": [
    "a[0]"
   ]
  },
  {
   "cell_type": "code",
   "execution_count": null,
   "metadata": {},
   "outputs": [],
   "source": [
    "tmp = simple_get(url)"
   ]
  },
  {
   "cell_type": "code",
   "execution_count": 8,
   "metadata": {},
   "outputs": [
    {
     "data": {
      "text/plain": [
       "'tuvwxyz'"
      ]
     },
     "execution_count": 8,
     "metadata": {},
     "output_type": "execute_result"
    }
   ],
   "source": [
    "st.ascii_lowercase[19:]"
   ]
  },
  {
   "cell_type": "code",
   "execution_count": null,
   "metadata": {},
   "outputs": [],
   "source": [
    "print (html.get_text())"
   ]
  },
  {
   "cell_type": "code",
   "execution_count": null,
   "metadata": {},
   "outputs": [],
   "source": [
    "\"\"\" get all pages in a list\"\"\"\n",
    "\"\"\"\n",
    "find root url \n",
    "add on appropriate \n",
    "\n",
    "\"\"\""
   ]
  }
 ],
 "metadata": {
  "kernelspec": {
   "display_name": "Python 3",
   "language": "python",
   "name": "python3"
  },
  "language_info": {
   "codemirror_mode": {
    "name": "ipython",
    "version": 3
   },
   "file_extension": ".py",
   "mimetype": "text/x-python",
   "name": "python",
   "nbconvert_exporter": "python",
   "pygments_lexer": "ipython3",
   "version": "3.6.8"
  }
 },
 "nbformat": 4,
 "nbformat_minor": 2
}
